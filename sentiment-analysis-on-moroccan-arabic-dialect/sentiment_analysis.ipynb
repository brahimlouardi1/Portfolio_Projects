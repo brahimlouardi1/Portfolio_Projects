{
  "nbformat": 4,
  "nbformat_minor": 0,
  "metadata": {
    "colab": {
      "provenance": []
    },
    "kernelspec": {
      "name": "python3",
      "display_name": "Python 3"
    },
    "language_info": {
      "name": "python"
    }
  },
  "cells": [
    {
      "cell_type": "code",
      "source": [
        "import numpy as np\n",
        "import pandas as pd"
      ],
      "metadata": {
        "id": "73XHyhihgpeK"
      },
      "execution_count": 1,
      "outputs": []
    },
    {
      "cell_type": "code",
      "source": [
        "df_train = pd.read_csv('train.csv')\n",
        "df_test = pd.read_csv('test_stage1.csv')\n",
        "df_train.info()"
      ],
      "metadata": {
        "colab": {
          "base_uri": "https://localhost:8080/"
        },
        "id": "5qBawnFCia5o",
        "outputId": "ca03327c-63ac-431c-97c4-8942ec5b2e5b"
      },
      "execution_count": 2,
      "outputs": [
        {
          "output_type": "stream",
          "name": "stdout",
          "text": [
            "<class 'pandas.core.frame.DataFrame'>\n",
            "RangeIndex: 1920 entries, 0 to 1919\n",
            "Data columns (total 3 columns):\n",
            " #   Column   Non-Null Count  Dtype \n",
            "---  ------   --------------  ----- \n",
            " 0   ID       1920 non-null   int64 \n",
            " 1   comment  1920 non-null   object\n",
            " 2   label    1920 non-null   int64 \n",
            "dtypes: int64(2), object(1)\n",
            "memory usage: 45.1+ KB\n"
          ]
        }
      ]
    },
    {
      "cell_type": "code",
      "source": [
        "df_train['label'].value_counts()"
      ],
      "metadata": {
        "colab": {
          "base_uri": "https://localhost:8080/"
        },
        "id": "1GIL42ohkPWI",
        "outputId": "fafecc19-899d-4dd4-e4bd-eeb52340dd18"
      },
      "execution_count": 3,
      "outputs": [
        {
          "output_type": "execute_result",
          "data": {
            "text/plain": [
              "1    960\n",
              "0    960\n",
              "Name: label, dtype: int64"
            ]
          },
          "metadata": {},
          "execution_count": 3
        }
      ]
    },
    {
      "cell_type": "code",
      "source": [
        "df_train.head()"
      ],
      "metadata": {
        "colab": {
          "base_uri": "https://localhost:8080/",
          "height": 206
        },
        "id": "PKie9ncpkmSd",
        "outputId": "5f30e4db-c6a5-4b0f-afb8-bb935c23db22"
      },
      "execution_count": 4,
      "outputs": [
        {
          "output_type": "execute_result",
          "data": {
            "text/plain": [
              "   ID                                            comment  label\n",
              "0   1  انا اوصي من هذا المنبر الكل للتوجه الى مراكز ا...      1\n",
              "1   2  \\nهناك الكثير لا يفهم المقصود كورونا ليست صعبة...      1\n",
              "2   3  الحمد لله ارقام مقبولة مقارنة بدول المنطقة لول...      1\n",
              "3   4  انا شخصيا أؤيد ما فرضته السلطات من ضرورة الإدل...      1\n",
              "4   5  \\nنفس الشئ في مدينة برشيد مراكز التلقيح مغلقة ...      1"
            ],
            "text/html": [
              "\n",
              "  <div id=\"df-152d3d6f-e810-47cd-b654-b5cf50348fb1\" class=\"colab-df-container\">\n",
              "    <div>\n",
              "<style scoped>\n",
              "    .dataframe tbody tr th:only-of-type {\n",
              "        vertical-align: middle;\n",
              "    }\n",
              "\n",
              "    .dataframe tbody tr th {\n",
              "        vertical-align: top;\n",
              "    }\n",
              "\n",
              "    .dataframe thead th {\n",
              "        text-align: right;\n",
              "    }\n",
              "</style>\n",
              "<table border=\"1\" class=\"dataframe\">\n",
              "  <thead>\n",
              "    <tr style=\"text-align: right;\">\n",
              "      <th></th>\n",
              "      <th>ID</th>\n",
              "      <th>comment</th>\n",
              "      <th>label</th>\n",
              "    </tr>\n",
              "  </thead>\n",
              "  <tbody>\n",
              "    <tr>\n",
              "      <th>0</th>\n",
              "      <td>1</td>\n",
              "      <td>انا اوصي من هذا المنبر الكل للتوجه الى مراكز ا...</td>\n",
              "      <td>1</td>\n",
              "    </tr>\n",
              "    <tr>\n",
              "      <th>1</th>\n",
              "      <td>2</td>\n",
              "      <td>\\nهناك الكثير لا يفهم المقصود كورونا ليست صعبة...</td>\n",
              "      <td>1</td>\n",
              "    </tr>\n",
              "    <tr>\n",
              "      <th>2</th>\n",
              "      <td>3</td>\n",
              "      <td>الحمد لله ارقام مقبولة مقارنة بدول المنطقة لول...</td>\n",
              "      <td>1</td>\n",
              "    </tr>\n",
              "    <tr>\n",
              "      <th>3</th>\n",
              "      <td>4</td>\n",
              "      <td>انا شخصيا أؤيد ما فرضته السلطات من ضرورة الإدل...</td>\n",
              "      <td>1</td>\n",
              "    </tr>\n",
              "    <tr>\n",
              "      <th>4</th>\n",
              "      <td>5</td>\n",
              "      <td>\\nنفس الشئ في مدينة برشيد مراكز التلقيح مغلقة ...</td>\n",
              "      <td>1</td>\n",
              "    </tr>\n",
              "  </tbody>\n",
              "</table>\n",
              "</div>\n",
              "    <div class=\"colab-df-buttons\">\n",
              "\n",
              "  <div class=\"colab-df-container\">\n",
              "    <button class=\"colab-df-convert\" onclick=\"convertToInteractive('df-152d3d6f-e810-47cd-b654-b5cf50348fb1')\"\n",
              "            title=\"Convert this dataframe to an interactive table.\"\n",
              "            style=\"display:none;\">\n",
              "\n",
              "  <svg xmlns=\"http://www.w3.org/2000/svg\" height=\"24px\" viewBox=\"0 -960 960 960\">\n",
              "    <path d=\"M120-120v-720h720v720H120Zm60-500h600v-160H180v160Zm220 220h160v-160H400v160Zm0 220h160v-160H400v160ZM180-400h160v-160H180v160Zm440 0h160v-160H620v160ZM180-180h160v-160H180v160Zm440 0h160v-160H620v160Z\"/>\n",
              "  </svg>\n",
              "    </button>\n",
              "\n",
              "  <style>\n",
              "    .colab-df-container {\n",
              "      display:flex;\n",
              "      gap: 12px;\n",
              "    }\n",
              "\n",
              "    .colab-df-convert {\n",
              "      background-color: #E8F0FE;\n",
              "      border: none;\n",
              "      border-radius: 50%;\n",
              "      cursor: pointer;\n",
              "      display: none;\n",
              "      fill: #1967D2;\n",
              "      height: 32px;\n",
              "      padding: 0 0 0 0;\n",
              "      width: 32px;\n",
              "    }\n",
              "\n",
              "    .colab-df-convert:hover {\n",
              "      background-color: #E2EBFA;\n",
              "      box-shadow: 0px 1px 2px rgba(60, 64, 67, 0.3), 0px 1px 3px 1px rgba(60, 64, 67, 0.15);\n",
              "      fill: #174EA6;\n",
              "    }\n",
              "\n",
              "    .colab-df-buttons div {\n",
              "      margin-bottom: 4px;\n",
              "    }\n",
              "\n",
              "    [theme=dark] .colab-df-convert {\n",
              "      background-color: #3B4455;\n",
              "      fill: #D2E3FC;\n",
              "    }\n",
              "\n",
              "    [theme=dark] .colab-df-convert:hover {\n",
              "      background-color: #434B5C;\n",
              "      box-shadow: 0px 1px 3px 1px rgba(0, 0, 0, 0.15);\n",
              "      filter: drop-shadow(0px 1px 2px rgba(0, 0, 0, 0.3));\n",
              "      fill: #FFFFFF;\n",
              "    }\n",
              "  </style>\n",
              "\n",
              "    <script>\n",
              "      const buttonEl =\n",
              "        document.querySelector('#df-152d3d6f-e810-47cd-b654-b5cf50348fb1 button.colab-df-convert');\n",
              "      buttonEl.style.display =\n",
              "        google.colab.kernel.accessAllowed ? 'block' : 'none';\n",
              "\n",
              "      async function convertToInteractive(key) {\n",
              "        const element = document.querySelector('#df-152d3d6f-e810-47cd-b654-b5cf50348fb1');\n",
              "        const dataTable =\n",
              "          await google.colab.kernel.invokeFunction('convertToInteractive',\n",
              "                                                    [key], {});\n",
              "        if (!dataTable) return;\n",
              "\n",
              "        const docLinkHtml = 'Like what you see? Visit the ' +\n",
              "          '<a target=\"_blank\" href=https://colab.research.google.com/notebooks/data_table.ipynb>data table notebook</a>'\n",
              "          + ' to learn more about interactive tables.';\n",
              "        element.innerHTML = '';\n",
              "        dataTable['output_type'] = 'display_data';\n",
              "        await google.colab.output.renderOutput(dataTable, element);\n",
              "        const docLink = document.createElement('div');\n",
              "        docLink.innerHTML = docLinkHtml;\n",
              "        element.appendChild(docLink);\n",
              "      }\n",
              "    </script>\n",
              "  </div>\n",
              "\n",
              "\n",
              "<div id=\"df-b84ba3b3-23af-464f-8464-797544cf7f5f\">\n",
              "  <button class=\"colab-df-quickchart\" onclick=\"quickchart('df-b84ba3b3-23af-464f-8464-797544cf7f5f')\"\n",
              "            title=\"Suggest charts\"\n",
              "            style=\"display:none;\">\n",
              "\n",
              "<svg xmlns=\"http://www.w3.org/2000/svg\" height=\"24px\"viewBox=\"0 0 24 24\"\n",
              "     width=\"24px\">\n",
              "    <g>\n",
              "        <path d=\"M19 3H5c-1.1 0-2 .9-2 2v14c0 1.1.9 2 2 2h14c1.1 0 2-.9 2-2V5c0-1.1-.9-2-2-2zM9 17H7v-7h2v7zm4 0h-2V7h2v10zm4 0h-2v-4h2v4z\"/>\n",
              "    </g>\n",
              "</svg>\n",
              "  </button>\n",
              "\n",
              "<style>\n",
              "  .colab-df-quickchart {\n",
              "      --bg-color: #E8F0FE;\n",
              "      --fill-color: #1967D2;\n",
              "      --hover-bg-color: #E2EBFA;\n",
              "      --hover-fill-color: #174EA6;\n",
              "      --disabled-fill-color: #AAA;\n",
              "      --disabled-bg-color: #DDD;\n",
              "  }\n",
              "\n",
              "  [theme=dark] .colab-df-quickchart {\n",
              "      --bg-color: #3B4455;\n",
              "      --fill-color: #D2E3FC;\n",
              "      --hover-bg-color: #434B5C;\n",
              "      --hover-fill-color: #FFFFFF;\n",
              "      --disabled-bg-color: #3B4455;\n",
              "      --disabled-fill-color: #666;\n",
              "  }\n",
              "\n",
              "  .colab-df-quickchart {\n",
              "    background-color: var(--bg-color);\n",
              "    border: none;\n",
              "    border-radius: 50%;\n",
              "    cursor: pointer;\n",
              "    display: none;\n",
              "    fill: var(--fill-color);\n",
              "    height: 32px;\n",
              "    padding: 0;\n",
              "    width: 32px;\n",
              "  }\n",
              "\n",
              "  .colab-df-quickchart:hover {\n",
              "    background-color: var(--hover-bg-color);\n",
              "    box-shadow: 0 1px 2px rgba(60, 64, 67, 0.3), 0 1px 3px 1px rgba(60, 64, 67, 0.15);\n",
              "    fill: var(--button-hover-fill-color);\n",
              "  }\n",
              "\n",
              "  .colab-df-quickchart-complete:disabled,\n",
              "  .colab-df-quickchart-complete:disabled:hover {\n",
              "    background-color: var(--disabled-bg-color);\n",
              "    fill: var(--disabled-fill-color);\n",
              "    box-shadow: none;\n",
              "  }\n",
              "\n",
              "  .colab-df-spinner {\n",
              "    border: 2px solid var(--fill-color);\n",
              "    border-color: transparent;\n",
              "    border-bottom-color: var(--fill-color);\n",
              "    animation:\n",
              "      spin 1s steps(1) infinite;\n",
              "  }\n",
              "\n",
              "  @keyframes spin {\n",
              "    0% {\n",
              "      border-color: transparent;\n",
              "      border-bottom-color: var(--fill-color);\n",
              "      border-left-color: var(--fill-color);\n",
              "    }\n",
              "    20% {\n",
              "      border-color: transparent;\n",
              "      border-left-color: var(--fill-color);\n",
              "      border-top-color: var(--fill-color);\n",
              "    }\n",
              "    30% {\n",
              "      border-color: transparent;\n",
              "      border-left-color: var(--fill-color);\n",
              "      border-top-color: var(--fill-color);\n",
              "      border-right-color: var(--fill-color);\n",
              "    }\n",
              "    40% {\n",
              "      border-color: transparent;\n",
              "      border-right-color: var(--fill-color);\n",
              "      border-top-color: var(--fill-color);\n",
              "    }\n",
              "    60% {\n",
              "      border-color: transparent;\n",
              "      border-right-color: var(--fill-color);\n",
              "    }\n",
              "    80% {\n",
              "      border-color: transparent;\n",
              "      border-right-color: var(--fill-color);\n",
              "      border-bottom-color: var(--fill-color);\n",
              "    }\n",
              "    90% {\n",
              "      border-color: transparent;\n",
              "      border-bottom-color: var(--fill-color);\n",
              "    }\n",
              "  }\n",
              "</style>\n",
              "\n",
              "  <script>\n",
              "    async function quickchart(key) {\n",
              "      const quickchartButtonEl =\n",
              "        document.querySelector('#' + key + ' button');\n",
              "      quickchartButtonEl.disabled = true;  // To prevent multiple clicks.\n",
              "      quickchartButtonEl.classList.add('colab-df-spinner');\n",
              "      try {\n",
              "        const charts = await google.colab.kernel.invokeFunction(\n",
              "            'suggestCharts', [key], {});\n",
              "      } catch (error) {\n",
              "        console.error('Error during call to suggestCharts:', error);\n",
              "      }\n",
              "      quickchartButtonEl.classList.remove('colab-df-spinner');\n",
              "      quickchartButtonEl.classList.add('colab-df-quickchart-complete');\n",
              "    }\n",
              "    (() => {\n",
              "      let quickchartButtonEl =\n",
              "        document.querySelector('#df-b84ba3b3-23af-464f-8464-797544cf7f5f button');\n",
              "      quickchartButtonEl.style.display =\n",
              "        google.colab.kernel.accessAllowed ? 'block' : 'none';\n",
              "    })();\n",
              "  </script>\n",
              "</div>\n",
              "    </div>\n",
              "  </div>\n"
            ]
          },
          "metadata": {},
          "execution_count": 4
        }
      ]
    },
    {
      "cell_type": "code",
      "source": [
        "import nltk\n",
        "nltk.download('punkt')\n",
        "from nltk.stem import PorterStemmer\n",
        "from nltk.stem import WordNetLemmatizer\n",
        "from nltk.tokenize import word_tokenize\n",
        "\n",
        "def normalize_characters(text):\n",
        "    return text.replace('ة', 'ه').replace('ى', 'ي')\n",
        "def remove_stop_words(text):\n",
        "    stop_words = set(['ال', 'و', 'في', 'على', 'من', 'إلى', 'عن', 'مع', 'ب', 'ل', 'ها', 'هو', 'هي', 'هم', 'هن'])\n",
        "    return \" \".join(w for w in text.split() if w not in stop_words)\n",
        "\n",
        "def clean_text(text):\n",
        "    text = normalize_characters(text)  # Normalize characters\n",
        "    text = remove_stop_words(text)  # Remove stop words\n",
        "    text.replace('\\n', ' ')\n",
        "    text = word_tokenize(text)\n",
        "\n",
        "\n",
        "    return text\n",
        "\n",
        "\n",
        "def clean_text1(text):\n",
        "    text = normalize_characters(text)  # Normalize characters\n",
        "    text = remove_stop_words(text)  # Remove stop words\n",
        "    text.replace('\\n', ' ')\n",
        "    # text = word_tokenize(text)\n",
        "\n",
        "\n",
        "    return text"
      ],
      "metadata": {
        "colab": {
          "base_uri": "https://localhost:8080/"
        },
        "id": "i02VNNI70cNU",
        "outputId": "6beff6c2-a883-451f-98cb-670d655faa35"
      },
      "execution_count": 5,
      "outputs": [
        {
          "output_type": "stream",
          "name": "stderr",
          "text": [
            "[nltk_data] Downloading package punkt to /root/nltk_data...\n",
            "[nltk_data]   Unzipping tokenizers/punkt.zip.\n"
          ]
        }
      ]
    },
    {
      "cell_type": "code",
      "source": [],
      "metadata": {
        "id": "f9ItnQa7puUe"
      },
      "execution_count": 5,
      "outputs": []
    },
    {
      "cell_type": "code",
      "source": [
        "df_train[\"clean_comment\"] = df_train[\"comment\"].apply(clean_text)\n",
        "df_train[\"clean_comment\"].head()"
      ],
      "metadata": {
        "colab": {
          "base_uri": "https://localhost:8080/"
        },
        "id": "QDqDqowh0vD5",
        "outputId": "22336792-36fa-4461-cd2c-8263fe9e2e83"
      },
      "execution_count": 6,
      "outputs": [
        {
          "output_type": "execute_result",
          "data": {
            "text/plain": [
              "0    [انا, اوصي, هذا, المنبر, الكل, للتوجه, الي, مر...\n",
              "1    [هناك, الكثير, لا, يفهم, المقصود, كورونا, ليست...\n",
              "2    [الحمد, لله, ارقام, مقبوله, مقارنه, بدول, المن...\n",
              "3    [انا, شخصيا, أؤيد, ما, فرضته, السلطات, ضروره, ...\n",
              "4    [نفس, الشئ, مدينه, برشيد, مراكز, التلقيح, مغلق...\n",
              "Name: clean_comment, dtype: object"
            ]
          },
          "metadata": {},
          "execution_count": 6
        }
      ]
    },
    {
      "cell_type": "code",
      "source": [
        "df_train[\"comment\"] = df_train[\"comment\"].apply(clean_text1)\n",
        "df_train[\"comment\"].head()"
      ],
      "metadata": {
        "colab": {
          "base_uri": "https://localhost:8080/"
        },
        "id": "obEAJf47plna",
        "outputId": "7d1d4b82-3bdf-4366-a8ae-980c0506637c"
      },
      "execution_count": 7,
      "outputs": [
        {
          "output_type": "execute_result",
          "data": {
            "text/plain": [
              "0    انا اوصي هذا المنبر الكل للتوجه الي مراكز التل...\n",
              "1    هناك الكثير لا يفهم المقصود كورونا ليست صعبه ع...\n",
              "2    الحمد لله ارقام مقبوله مقارنه بدول المنطقه لول...\n",
              "3    انا شخصيا أؤيد ما فرضته السلطات ضروره الإدلاء ...\n",
              "4    نفس الشئ مدينه برشيد مراكز التلقيح مغلقه إلي غ...\n",
              "Name: comment, dtype: object"
            ]
          },
          "metadata": {},
          "execution_count": 7
        }
      ]
    },
    {
      "cell_type": "code",
      "source": [
        "df_train['label_for_ftext'] = '__label__' + df_train['label'].astype(str)\n",
        "df_train.head(5)"
      ],
      "metadata": {
        "colab": {
          "base_uri": "https://localhost:8080/",
          "height": 206
        },
        "id": "CB-wpqI2iMrr",
        "outputId": "5ee4c23d-a325-470e-8520-e42f239e8b02"
      },
      "execution_count": 8,
      "outputs": [
        {
          "output_type": "execute_result",
          "data": {
            "text/plain": [
              "   ID                                            comment  label  \\\n",
              "0   1  انا اوصي هذا المنبر الكل للتوجه الي مراكز التل...      1   \n",
              "1   2  هناك الكثير لا يفهم المقصود كورونا ليست صعبه ع...      1   \n",
              "2   3  الحمد لله ارقام مقبوله مقارنه بدول المنطقه لول...      1   \n",
              "3   4  انا شخصيا أؤيد ما فرضته السلطات ضروره الإدلاء ...      1   \n",
              "4   5  نفس الشئ مدينه برشيد مراكز التلقيح مغلقه إلي غ...      1   \n",
              "\n",
              "                                       clean_comment label_for_ftext  \n",
              "0  [انا, اوصي, هذا, المنبر, الكل, للتوجه, الي, مر...      __label__1  \n",
              "1  [هناك, الكثير, لا, يفهم, المقصود, كورونا, ليست...      __label__1  \n",
              "2  [الحمد, لله, ارقام, مقبوله, مقارنه, بدول, المن...      __label__1  \n",
              "3  [انا, شخصيا, أؤيد, ما, فرضته, السلطات, ضروره, ...      __label__1  \n",
              "4  [نفس, الشئ, مدينه, برشيد, مراكز, التلقيح, مغلق...      __label__1  "
            ],
            "text/html": [
              "\n",
              "  <div id=\"df-d4110100-793d-4600-a221-5b5b3c13e178\" class=\"colab-df-container\">\n",
              "    <div>\n",
              "<style scoped>\n",
              "    .dataframe tbody tr th:only-of-type {\n",
              "        vertical-align: middle;\n",
              "    }\n",
              "\n",
              "    .dataframe tbody tr th {\n",
              "        vertical-align: top;\n",
              "    }\n",
              "\n",
              "    .dataframe thead th {\n",
              "        text-align: right;\n",
              "    }\n",
              "</style>\n",
              "<table border=\"1\" class=\"dataframe\">\n",
              "  <thead>\n",
              "    <tr style=\"text-align: right;\">\n",
              "      <th></th>\n",
              "      <th>ID</th>\n",
              "      <th>comment</th>\n",
              "      <th>label</th>\n",
              "      <th>clean_comment</th>\n",
              "      <th>label_for_ftext</th>\n",
              "    </tr>\n",
              "  </thead>\n",
              "  <tbody>\n",
              "    <tr>\n",
              "      <th>0</th>\n",
              "      <td>1</td>\n",
              "      <td>انا اوصي هذا المنبر الكل للتوجه الي مراكز التل...</td>\n",
              "      <td>1</td>\n",
              "      <td>[انا, اوصي, هذا, المنبر, الكل, للتوجه, الي, مر...</td>\n",
              "      <td>__label__1</td>\n",
              "    </tr>\n",
              "    <tr>\n",
              "      <th>1</th>\n",
              "      <td>2</td>\n",
              "      <td>هناك الكثير لا يفهم المقصود كورونا ليست صعبه ع...</td>\n",
              "      <td>1</td>\n",
              "      <td>[هناك, الكثير, لا, يفهم, المقصود, كورونا, ليست...</td>\n",
              "      <td>__label__1</td>\n",
              "    </tr>\n",
              "    <tr>\n",
              "      <th>2</th>\n",
              "      <td>3</td>\n",
              "      <td>الحمد لله ارقام مقبوله مقارنه بدول المنطقه لول...</td>\n",
              "      <td>1</td>\n",
              "      <td>[الحمد, لله, ارقام, مقبوله, مقارنه, بدول, المن...</td>\n",
              "      <td>__label__1</td>\n",
              "    </tr>\n",
              "    <tr>\n",
              "      <th>3</th>\n",
              "      <td>4</td>\n",
              "      <td>انا شخصيا أؤيد ما فرضته السلطات ضروره الإدلاء ...</td>\n",
              "      <td>1</td>\n",
              "      <td>[انا, شخصيا, أؤيد, ما, فرضته, السلطات, ضروره, ...</td>\n",
              "      <td>__label__1</td>\n",
              "    </tr>\n",
              "    <tr>\n",
              "      <th>4</th>\n",
              "      <td>5</td>\n",
              "      <td>نفس الشئ مدينه برشيد مراكز التلقيح مغلقه إلي غ...</td>\n",
              "      <td>1</td>\n",
              "      <td>[نفس, الشئ, مدينه, برشيد, مراكز, التلقيح, مغلق...</td>\n",
              "      <td>__label__1</td>\n",
              "    </tr>\n",
              "  </tbody>\n",
              "</table>\n",
              "</div>\n",
              "    <div class=\"colab-df-buttons\">\n",
              "\n",
              "  <div class=\"colab-df-container\">\n",
              "    <button class=\"colab-df-convert\" onclick=\"convertToInteractive('df-d4110100-793d-4600-a221-5b5b3c13e178')\"\n",
              "            title=\"Convert this dataframe to an interactive table.\"\n",
              "            style=\"display:none;\">\n",
              "\n",
              "  <svg xmlns=\"http://www.w3.org/2000/svg\" height=\"24px\" viewBox=\"0 -960 960 960\">\n",
              "    <path d=\"M120-120v-720h720v720H120Zm60-500h600v-160H180v160Zm220 220h160v-160H400v160Zm0 220h160v-160H400v160ZM180-400h160v-160H180v160Zm440 0h160v-160H620v160ZM180-180h160v-160H180v160Zm440 0h160v-160H620v160Z\"/>\n",
              "  </svg>\n",
              "    </button>\n",
              "\n",
              "  <style>\n",
              "    .colab-df-container {\n",
              "      display:flex;\n",
              "      gap: 12px;\n",
              "    }\n",
              "\n",
              "    .colab-df-convert {\n",
              "      background-color: #E8F0FE;\n",
              "      border: none;\n",
              "      border-radius: 50%;\n",
              "      cursor: pointer;\n",
              "      display: none;\n",
              "      fill: #1967D2;\n",
              "      height: 32px;\n",
              "      padding: 0 0 0 0;\n",
              "      width: 32px;\n",
              "    }\n",
              "\n",
              "    .colab-df-convert:hover {\n",
              "      background-color: #E2EBFA;\n",
              "      box-shadow: 0px 1px 2px rgba(60, 64, 67, 0.3), 0px 1px 3px 1px rgba(60, 64, 67, 0.15);\n",
              "      fill: #174EA6;\n",
              "    }\n",
              "\n",
              "    .colab-df-buttons div {\n",
              "      margin-bottom: 4px;\n",
              "    }\n",
              "\n",
              "    [theme=dark] .colab-df-convert {\n",
              "      background-color: #3B4455;\n",
              "      fill: #D2E3FC;\n",
              "    }\n",
              "\n",
              "    [theme=dark] .colab-df-convert:hover {\n",
              "      background-color: #434B5C;\n",
              "      box-shadow: 0px 1px 3px 1px rgba(0, 0, 0, 0.15);\n",
              "      filter: drop-shadow(0px 1px 2px rgba(0, 0, 0, 0.3));\n",
              "      fill: #FFFFFF;\n",
              "    }\n",
              "  </style>\n",
              "\n",
              "    <script>\n",
              "      const buttonEl =\n",
              "        document.querySelector('#df-d4110100-793d-4600-a221-5b5b3c13e178 button.colab-df-convert');\n",
              "      buttonEl.style.display =\n",
              "        google.colab.kernel.accessAllowed ? 'block' : 'none';\n",
              "\n",
              "      async function convertToInteractive(key) {\n",
              "        const element = document.querySelector('#df-d4110100-793d-4600-a221-5b5b3c13e178');\n",
              "        const dataTable =\n",
              "          await google.colab.kernel.invokeFunction('convertToInteractive',\n",
              "                                                    [key], {});\n",
              "        if (!dataTable) return;\n",
              "\n",
              "        const docLinkHtml = 'Like what you see? Visit the ' +\n",
              "          '<a target=\"_blank\" href=https://colab.research.google.com/notebooks/data_table.ipynb>data table notebook</a>'\n",
              "          + ' to learn more about interactive tables.';\n",
              "        element.innerHTML = '';\n",
              "        dataTable['output_type'] = 'display_data';\n",
              "        await google.colab.output.renderOutput(dataTable, element);\n",
              "        const docLink = document.createElement('div');\n",
              "        docLink.innerHTML = docLinkHtml;\n",
              "        element.appendChild(docLink);\n",
              "      }\n",
              "    </script>\n",
              "  </div>\n",
              "\n",
              "\n",
              "<div id=\"df-8e58b211-1a41-4d97-aa3d-7aa8c8a5d5b5\">\n",
              "  <button class=\"colab-df-quickchart\" onclick=\"quickchart('df-8e58b211-1a41-4d97-aa3d-7aa8c8a5d5b5')\"\n",
              "            title=\"Suggest charts\"\n",
              "            style=\"display:none;\">\n",
              "\n",
              "<svg xmlns=\"http://www.w3.org/2000/svg\" height=\"24px\"viewBox=\"0 0 24 24\"\n",
              "     width=\"24px\">\n",
              "    <g>\n",
              "        <path d=\"M19 3H5c-1.1 0-2 .9-2 2v14c0 1.1.9 2 2 2h14c1.1 0 2-.9 2-2V5c0-1.1-.9-2-2-2zM9 17H7v-7h2v7zm4 0h-2V7h2v10zm4 0h-2v-4h2v4z\"/>\n",
              "    </g>\n",
              "</svg>\n",
              "  </button>\n",
              "\n",
              "<style>\n",
              "  .colab-df-quickchart {\n",
              "      --bg-color: #E8F0FE;\n",
              "      --fill-color: #1967D2;\n",
              "      --hover-bg-color: #E2EBFA;\n",
              "      --hover-fill-color: #174EA6;\n",
              "      --disabled-fill-color: #AAA;\n",
              "      --disabled-bg-color: #DDD;\n",
              "  }\n",
              "\n",
              "  [theme=dark] .colab-df-quickchart {\n",
              "      --bg-color: #3B4455;\n",
              "      --fill-color: #D2E3FC;\n",
              "      --hover-bg-color: #434B5C;\n",
              "      --hover-fill-color: #FFFFFF;\n",
              "      --disabled-bg-color: #3B4455;\n",
              "      --disabled-fill-color: #666;\n",
              "  }\n",
              "\n",
              "  .colab-df-quickchart {\n",
              "    background-color: var(--bg-color);\n",
              "    border: none;\n",
              "    border-radius: 50%;\n",
              "    cursor: pointer;\n",
              "    display: none;\n",
              "    fill: var(--fill-color);\n",
              "    height: 32px;\n",
              "    padding: 0;\n",
              "    width: 32px;\n",
              "  }\n",
              "\n",
              "  .colab-df-quickchart:hover {\n",
              "    background-color: var(--hover-bg-color);\n",
              "    box-shadow: 0 1px 2px rgba(60, 64, 67, 0.3), 0 1px 3px 1px rgba(60, 64, 67, 0.15);\n",
              "    fill: var(--button-hover-fill-color);\n",
              "  }\n",
              "\n",
              "  .colab-df-quickchart-complete:disabled,\n",
              "  .colab-df-quickchart-complete:disabled:hover {\n",
              "    background-color: var(--disabled-bg-color);\n",
              "    fill: var(--disabled-fill-color);\n",
              "    box-shadow: none;\n",
              "  }\n",
              "\n",
              "  .colab-df-spinner {\n",
              "    border: 2px solid var(--fill-color);\n",
              "    border-color: transparent;\n",
              "    border-bottom-color: var(--fill-color);\n",
              "    animation:\n",
              "      spin 1s steps(1) infinite;\n",
              "  }\n",
              "\n",
              "  @keyframes spin {\n",
              "    0% {\n",
              "      border-color: transparent;\n",
              "      border-bottom-color: var(--fill-color);\n",
              "      border-left-color: var(--fill-color);\n",
              "    }\n",
              "    20% {\n",
              "      border-color: transparent;\n",
              "      border-left-color: var(--fill-color);\n",
              "      border-top-color: var(--fill-color);\n",
              "    }\n",
              "    30% {\n",
              "      border-color: transparent;\n",
              "      border-left-color: var(--fill-color);\n",
              "      border-top-color: var(--fill-color);\n",
              "      border-right-color: var(--fill-color);\n",
              "    }\n",
              "    40% {\n",
              "      border-color: transparent;\n",
              "      border-right-color: var(--fill-color);\n",
              "      border-top-color: var(--fill-color);\n",
              "    }\n",
              "    60% {\n",
              "      border-color: transparent;\n",
              "      border-right-color: var(--fill-color);\n",
              "    }\n",
              "    80% {\n",
              "      border-color: transparent;\n",
              "      border-right-color: var(--fill-color);\n",
              "      border-bottom-color: var(--fill-color);\n",
              "    }\n",
              "    90% {\n",
              "      border-color: transparent;\n",
              "      border-bottom-color: var(--fill-color);\n",
              "    }\n",
              "  }\n",
              "</style>\n",
              "\n",
              "  <script>\n",
              "    async function quickchart(key) {\n",
              "      const quickchartButtonEl =\n",
              "        document.querySelector('#' + key + ' button');\n",
              "      quickchartButtonEl.disabled = true;  // To prevent multiple clicks.\n",
              "      quickchartButtonEl.classList.add('colab-df-spinner');\n",
              "      try {\n",
              "        const charts = await google.colab.kernel.invokeFunction(\n",
              "            'suggestCharts', [key], {});\n",
              "      } catch (error) {\n",
              "        console.error('Error during call to suggestCharts:', error);\n",
              "      }\n",
              "      quickchartButtonEl.classList.remove('colab-df-spinner');\n",
              "      quickchartButtonEl.classList.add('colab-df-quickchart-complete');\n",
              "    }\n",
              "    (() => {\n",
              "      let quickchartButtonEl =\n",
              "        document.querySelector('#df-8e58b211-1a41-4d97-aa3d-7aa8c8a5d5b5 button');\n",
              "      quickchartButtonEl.style.display =\n",
              "        google.colab.kernel.accessAllowed ? 'block' : 'none';\n",
              "    })();\n",
              "  </script>\n",
              "</div>\n",
              "    </div>\n",
              "  </div>\n"
            ]
          },
          "metadata": {},
          "execution_count": 8
        }
      ]
    },
    {
      "cell_type": "code",
      "source": [
        "df_train['label_comment'] = df_train['label_for_ftext'] + ' ' + df_train['comment']\n"
      ],
      "metadata": {
        "id": "pUpoT8ghidEo"
      },
      "execution_count": 9,
      "outputs": []
    },
    {
      "cell_type": "code",
      "source": [
        "from sklearn.model_selection import train_test_split\n",
        "\n",
        "train, test = train_test_split(df_train, test_size=0.2)"
      ],
      "metadata": {
        "id": "HtG2duWei75R"
      },
      "execution_count": 10,
      "outputs": []
    },
    {
      "cell_type": "code",
      "source": [
        "train.to_csv(\"comment.train\", columns=[\"label_comment\"], index=False, header=False)\n",
        "test.to_csv(\"comment.test\", columns=[\"label_comment\"], index=False, header=False)"
      ],
      "metadata": {
        "id": "DPpX0iegi6di"
      },
      "execution_count": 11,
      "outputs": []
    },
    {
      "cell_type": "code",
      "source": [
        "!pip install gensim"
      ],
      "metadata": {
        "colab": {
          "base_uri": "https://localhost:8080/"
        },
        "id": "ABSFVd1jnjsl",
        "outputId": "380673b8-58a1-44c1-d798-2b9359bb6b4d"
      },
      "execution_count": 12,
      "outputs": [
        {
          "output_type": "stream",
          "name": "stdout",
          "text": [
            "Requirement already satisfied: gensim in /usr/local/lib/python3.10/dist-packages (4.3.2)\n",
            "Requirement already satisfied: numpy>=1.18.5 in /usr/local/lib/python3.10/dist-packages (from gensim) (1.23.5)\n",
            "Requirement already satisfied: scipy>=1.7.0 in /usr/local/lib/python3.10/dist-packages (from gensim) (1.11.4)\n",
            "Requirement already satisfied: smart-open>=1.8.1 in /usr/local/lib/python3.10/dist-packages (from gensim) (6.4.0)\n"
          ]
        }
      ]
    },
    {
      "cell_type": "code",
      "source": [
        "!wget https://dl.fbaipublicfiles.com/fasttext/vectors-crawl/cc.ar.300.bin.gz"
      ],
      "metadata": {
        "id": "D6y0Dg6x8dDS",
        "colab": {
          "base_uri": "https://localhost:8080/"
        },
        "outputId": "1c30f663-3f4a-4ba9-dccc-c64aaac63e50"
      },
      "execution_count": 13,
      "outputs": [
        {
          "output_type": "stream",
          "name": "stdout",
          "text": [
            "--2024-01-08 15:23:13--  https://dl.fbaipublicfiles.com/fasttext/vectors-crawl/cc.ar.300.bin.gz\n",
            "Resolving dl.fbaipublicfiles.com (dl.fbaipublicfiles.com)... 18.244.202.103, 18.244.202.25, 18.244.202.62, ...\n",
            "Connecting to dl.fbaipublicfiles.com (dl.fbaipublicfiles.com)|18.244.202.103|:443... connected.\n",
            "HTTP request sent, awaiting response... 200 OK\n",
            "Length: 4500982519 (4.2G) [application/octet-stream]\n",
            "Saving to: ‘cc.ar.300.bin.gz’\n",
            "\n",
            "cc.ar.300.bin.gz    100%[===================>]   4.19G  60.3MB/s    in 88s     \n",
            "\n",
            "2024-01-08 15:24:41 (49.0 MB/s) - ‘cc.ar.300.bin.gz’ saved [4500982519/4500982519]\n",
            "\n"
          ]
        }
      ]
    },
    {
      "cell_type": "code",
      "source": [
        "!gunzip cc.ar.300.bin.gz\n",
        "!pip install fastText"
      ],
      "metadata": {
        "id": "mYxuwJ5Cq29F",
        "colab": {
          "base_uri": "https://localhost:8080/"
        },
        "outputId": "587a4d7d-d44a-4cab-9bca-76b8522c72fe"
      },
      "execution_count": 14,
      "outputs": [
        {
          "output_type": "stream",
          "name": "stdout",
          "text": [
            "Collecting fastText\n",
            "  Downloading fasttext-0.9.2.tar.gz (68 kB)\n",
            "\u001b[2K     \u001b[90m━━━━━━━━━━━━━━━━━━━━━━━━━━━━━━━━━━━━━━━━\u001b[0m \u001b[32m68.8/68.8 kB\u001b[0m \u001b[31m1.7 MB/s\u001b[0m eta \u001b[36m0:00:00\u001b[0m\n",
            "\u001b[?25h  Preparing metadata (setup.py) ... \u001b[?25l\u001b[?25hdone\n",
            "Collecting pybind11>=2.2 (from fastText)\n",
            "  Using cached pybind11-2.11.1-py3-none-any.whl (227 kB)\n",
            "Requirement already satisfied: setuptools>=0.7.0 in /usr/local/lib/python3.10/dist-packages (from fastText) (67.7.2)\n",
            "Requirement already satisfied: numpy in /usr/local/lib/python3.10/dist-packages (from fastText) (1.23.5)\n",
            "Building wheels for collected packages: fastText\n",
            "  Building wheel for fastText (setup.py) ... \u001b[?25l\u001b[?25hdone\n",
            "  Created wheel for fastText: filename=fasttext-0.9.2-cp310-cp310-linux_x86_64.whl size=4199773 sha256=ba0a457477145780d66e24a7ddc9a8740aca367456936f92a39ed310155446fa\n",
            "  Stored in directory: /root/.cache/pip/wheels/a5/13/75/f811c84a8ab36eedbaef977a6a58a98990e8e0f1967f98f394\n",
            "Successfully built fastText\n",
            "Installing collected packages: pybind11, fastText\n",
            "Successfully installed fastText-0.9.2 pybind11-2.11.1\n"
          ]
        }
      ]
    },
    {
      "cell_type": "code",
      "source": [
        "import fasttext\n",
        "import fasttext.util\n",
        "\n",
        "model = fasttext.load_model('cc.ar.300.bin')\n",
        "model.get_dimension()"
      ],
      "metadata": {
        "colab": {
          "base_uri": "https://localhost:8080/"
        },
        "id": "5TzyR4_anMLc",
        "outputId": "7e610d1b-3c70-4119-c79d-57081dcd7826"
      },
      "execution_count": 15,
      "outputs": [
        {
          "output_type": "stream",
          "name": "stderr",
          "text": [
            "Warning : `load_model` does not return WordVectorModel or SupervisedModel any more, but a `FastText` object which is very similar.\n"
          ]
        },
        {
          "output_type": "execute_result",
          "data": {
            "text/plain": [
              "300"
            ]
          },
          "metadata": {},
          "execution_count": 15
        }
      ]
    },
    {
      "cell_type": "code",
      "source": [
        "model = fasttext.train_supervised(\"/content/comment.train\", epoch=1000)"
      ],
      "metadata": {
        "id": "Paf9zUGCru7e"
      },
      "execution_count": 16,
      "outputs": []
    },
    {
      "cell_type": "code",
      "source": [
        "model.test(\"/content/comment.test\")"
      ],
      "metadata": {
        "colab": {
          "base_uri": "https://localhost:8080/"
        },
        "id": "MeYBLdvBtjbv",
        "outputId": "15a2c9a8-3f8e-43fc-ec33-44fe3fe7099b"
      },
      "execution_count": 17,
      "outputs": [
        {
          "output_type": "execute_result",
          "data": {
            "text/plain": [
              "(365, 0.7753424657534247, 0.7753424657534247)"
            ]
          },
          "metadata": {},
          "execution_count": 17
        }
      ]
    },
    {
      "cell_type": "code",
      "source": [
        "df_train[\"embeddings\"] = df_train[\"comment\"].apply(lambda x: model.get_sentence_vector(x))"
      ],
      "metadata": {
        "id": "UJF63rJjq-5e"
      },
      "execution_count": 18,
      "outputs": []
    },
    {
      "cell_type": "code",
      "source": [
        "df_train.info()"
      ],
      "metadata": {
        "colab": {
          "base_uri": "https://localhost:8080/"
        },
        "id": "v1iC9ryH8ZT9",
        "outputId": "4fcdd63b-6710-49ad-e083-40d0ebc4a22a"
      },
      "execution_count": 19,
      "outputs": [
        {
          "output_type": "stream",
          "name": "stdout",
          "text": [
            "<class 'pandas.core.frame.DataFrame'>\n",
            "RangeIndex: 1920 entries, 0 to 1919\n",
            "Data columns (total 7 columns):\n",
            " #   Column           Non-Null Count  Dtype \n",
            "---  ------           --------------  ----- \n",
            " 0   ID               1920 non-null   int64 \n",
            " 1   comment          1920 non-null   object\n",
            " 2   label            1920 non-null   int64 \n",
            " 3   clean_comment    1920 non-null   object\n",
            " 4   label_for_ftext  1920 non-null   object\n",
            " 5   label_comment    1920 non-null   object\n",
            " 6   embeddings       1920 non-null   object\n",
            "dtypes: int64(2), object(5)\n",
            "memory usage: 105.1+ KB\n"
          ]
        }
      ]
    },
    {
      "cell_type": "code",
      "source": [
        "from sklearn.model_selection import train_test_split\n",
        "embeddings = df_train[\"embeddings\"].tolist()\n",
        "\n",
        "X_train, X_test, y_train, y_test = train_test_split(embeddings, df_train['label'], test_size=0.2, random_state=42)"
      ],
      "metadata": {
        "id": "15eE9XUiksdB"
      },
      "execution_count": 20,
      "outputs": []
    },
    {
      "cell_type": "code",
      "source": [
        "import numpy as np\n",
        "from sklearn.svm import SVC\n",
        "\n",
        "model_SVC = SVC(kernel='rbf')\n",
        "model_SVC.fit(X_train, y_train)\n",
        "\n",
        "accuracy = model_SVC.score(X_test, y_test)\n",
        "print(\"Accuracy:\", accuracy)"
      ],
      "metadata": {
        "colab": {
          "base_uri": "https://localhost:8080/"
        },
        "id": "e-1a1o9F9V-u",
        "outputId": "7e8ded96-60b5-4229-cee2-1acd33d4e779"
      },
      "execution_count": 21,
      "outputs": [
        {
          "output_type": "stream",
          "name": "stdout",
          "text": [
            "Accuracy: 0.9557291666666666\n"
          ]
        }
      ]
    },
    {
      "cell_type": "code",
      "source": [
        "import numpy as np\n",
        "from sklearn.linear_model import LogisticRegression\n",
        "\n",
        "model_log = LogisticRegression(random_state=42)\n",
        "\n",
        "model_log.fit(X_train, y_train)\n",
        "\n",
        "accuracy = model_log.score(X_test, y_test)\n",
        "print(\"Accuracy:\", accuracy)"
      ],
      "metadata": {
        "colab": {
          "base_uri": "https://localhost:8080/"
        },
        "id": "KUYrSuStCt7Q",
        "outputId": "56f074bd-55fd-4ef4-8dfb-40a0e1b05d5b"
      },
      "execution_count": 22,
      "outputs": [
        {
          "output_type": "stream",
          "name": "stdout",
          "text": [
            "Accuracy: 0.9557291666666666\n"
          ]
        }
      ]
    },
    {
      "cell_type": "code",
      "source": [
        "import xgboost as xgb\n",
        "\n",
        "# Create the model\n",
        "model_xgb = xgb.XGBClassifier(random_state=42)  # Set random_state for reproducibility\n",
        "\n",
        "# Fit the model\n",
        "model_xgb.fit(X_train, y_train)\n",
        "\n",
        "# Evaluate the model\n",
        "accuracy = model_xgb.score(X_test, y_test)\n",
        "print(\"Accuracy:\", accuracy)\n"
      ],
      "metadata": {
        "colab": {
          "base_uri": "https://localhost:8080/"
        },
        "id": "3xxHleCEEh9d",
        "outputId": "9c31272d-20db-4038-af06-7d8fc11f2a43"
      },
      "execution_count": 23,
      "outputs": [
        {
          "output_type": "stream",
          "name": "stdout",
          "text": [
            "Accuracy: 0.953125\n"
          ]
        }
      ]
    },
    {
      "cell_type": "code",
      "source": [
        "from sklearn.ensemble import RandomForestClassifier\n",
        "from sklearn.metrics import accuracy_score\n",
        "\n",
        "# Create the Random Forest model\n",
        "model_rf = RandomForestClassifier(n_estimators=100,random_state=42)  # Set random_state for reproducibility\n",
        "\n",
        "# Fit the Random Forest model\n",
        "model_rf.fit(X_train, y_train)\n",
        "\n",
        "# Make predictions\n",
        "y_pred = model_rf.predict(X_test)\n",
        "\n",
        "# Evaluate the Random Forest model\n",
        "accuracy = accuracy_score(y_test, y_pred)\n",
        "print(\"Accuracy:\", accuracy)\n"
      ],
      "metadata": {
        "colab": {
          "base_uri": "https://localhost:8080/"
        },
        "id": "K5YytAvX0o85",
        "outputId": "5ca59d48-f240-4725-d951-d3f4ea3ac7af"
      },
      "execution_count": 24,
      "outputs": [
        {
          "output_type": "stream",
          "name": "stdout",
          "text": [
            "Accuracy: 0.953125\n"
          ]
        }
      ]
    },
    {
      "cell_type": "code",
      "source": [
        "import numpy as np\n",
        "from tensorflow.keras.models import Sequential\n",
        "from tensorflow.keras.layers import Dense, Dropout\n",
        "from tensorflow.keras.callbacks import EarlyStopping\n",
        "\n",
        "X_train = np.array(X_train)\n",
        "y_train = np.array(y_train)\n",
        "X_test = np.array(X_test)\n",
        "y_test = np.array(y_test)\n",
        "\n",
        "model_DL = Sequential()\n",
        "\n",
        "model_DL.add(Dense(256, activation='relu', input_shape=(X_train.shape[1],)))\n",
        "model_DL.add(Dropout(0.3))\n",
        "\n",
        "model_DL.add(Dense(128, activation='relu'))\n",
        "model_DL.add(Dropout(0.2))\n",
        "\n",
        "model_DL.add(Dense(64, activation='relu'))\n",
        "model_DL.add(Dropout(0.1))\n",
        "\n",
        "model_DL.add(Dense(1, activation='sigmoid'))\n",
        "\n",
        "model_DL.compile(loss='binary_crossentropy', optimizer='adam', metrics=['accuracy'])\n",
        "\n",
        "model_DL.fit(X_train, y_train, epochs=200, batch_size=100)\n",
        "\n",
        "# Evaluate the model_DL\n",
        "accuracy = model_DL.evaluate(X_test, y_test)[1]\n",
        "print(\"Accuracy:\", accuracy)\n"
      ],
      "metadata": {
        "colab": {
          "base_uri": "https://localhost:8080/"
        },
        "id": "utyQLhaJtsZA",
        "outputId": "884dfae9-d396-4f82-f7a5-a16bd60ba4a2"
      },
      "execution_count": 28,
      "outputs": [
        {
          "output_type": "stream",
          "name": "stdout",
          "text": [
            "Epoch 1/200\n",
            "16/16 [==============================] - 1s 7ms/step - loss: 0.5983 - accuracy: 0.9102\n",
            "Epoch 2/200\n",
            "16/16 [==============================] - 0s 6ms/step - loss: 0.2586 - accuracy: 0.9427\n",
            "Epoch 3/200\n",
            "16/16 [==============================] - 0s 7ms/step - loss: 0.1770 - accuracy: 0.9466\n",
            "Epoch 4/200\n",
            "16/16 [==============================] - 0s 6ms/step - loss: 0.1666 - accuracy: 0.9447\n",
            "Epoch 5/200\n",
            "16/16 [==============================] - 0s 6ms/step - loss: 0.1652 - accuracy: 0.9421\n",
            "Epoch 6/200\n",
            "16/16 [==============================] - 0s 6ms/step - loss: 0.1677 - accuracy: 0.9388\n",
            "Epoch 7/200\n",
            "16/16 [==============================] - 0s 6ms/step - loss: 0.1651 - accuracy: 0.9414\n",
            "Epoch 8/200\n",
            "16/16 [==============================] - 0s 6ms/step - loss: 0.1592 - accuracy: 0.9466\n",
            "Epoch 9/200\n",
            "16/16 [==============================] - 0s 6ms/step - loss: 0.1618 - accuracy: 0.9460\n",
            "Epoch 10/200\n",
            "16/16 [==============================] - 0s 6ms/step - loss: 0.1609 - accuracy: 0.9434\n",
            "Epoch 11/200\n",
            "16/16 [==============================] - 0s 6ms/step - loss: 0.1595 - accuracy: 0.9447\n",
            "Epoch 12/200\n",
            "16/16 [==============================] - 0s 6ms/step - loss: 0.1617 - accuracy: 0.9453\n",
            "Epoch 13/200\n",
            "16/16 [==============================] - 0s 6ms/step - loss: 0.1579 - accuracy: 0.9434\n",
            "Epoch 14/200\n",
            "16/16 [==============================] - 0s 6ms/step - loss: 0.1551 - accuracy: 0.9466\n",
            "Epoch 15/200\n",
            "16/16 [==============================] - 0s 6ms/step - loss: 0.1533 - accuracy: 0.9453\n",
            "Epoch 16/200\n",
            "16/16 [==============================] - 0s 6ms/step - loss: 0.1549 - accuracy: 0.9460\n",
            "Epoch 17/200\n",
            "16/16 [==============================] - 0s 6ms/step - loss: 0.1561 - accuracy: 0.9440\n",
            "Epoch 18/200\n",
            "16/16 [==============================] - 0s 6ms/step - loss: 0.1559 - accuracy: 0.9434\n",
            "Epoch 19/200\n",
            "16/16 [==============================] - 0s 6ms/step - loss: 0.1530 - accuracy: 0.9414\n",
            "Epoch 20/200\n",
            "16/16 [==============================] - 0s 6ms/step - loss: 0.1591 - accuracy: 0.9447\n",
            "Epoch 21/200\n",
            "16/16 [==============================] - 0s 6ms/step - loss: 0.1546 - accuracy: 0.9427\n",
            "Epoch 22/200\n",
            "16/16 [==============================] - 0s 6ms/step - loss: 0.1530 - accuracy: 0.9453\n",
            "Epoch 23/200\n",
            "16/16 [==============================] - 0s 6ms/step - loss: 0.1552 - accuracy: 0.9440\n",
            "Epoch 24/200\n",
            "16/16 [==============================] - 0s 5ms/step - loss: 0.1544 - accuracy: 0.9460\n",
            "Epoch 25/200\n",
            "16/16 [==============================] - 0s 6ms/step - loss: 0.1588 - accuracy: 0.9427\n",
            "Epoch 26/200\n",
            "16/16 [==============================] - 0s 6ms/step - loss: 0.1546 - accuracy: 0.9414\n",
            "Epoch 27/200\n",
            "16/16 [==============================] - 0s 5ms/step - loss: 0.1508 - accuracy: 0.9447\n",
            "Epoch 28/200\n",
            "16/16 [==============================] - 0s 6ms/step - loss: 0.1531 - accuracy: 0.9434\n",
            "Epoch 29/200\n",
            "16/16 [==============================] - 0s 5ms/step - loss: 0.1534 - accuracy: 0.9440\n",
            "Epoch 30/200\n",
            "16/16 [==============================] - 0s 6ms/step - loss: 0.1545 - accuracy: 0.9408\n",
            "Epoch 31/200\n",
            "16/16 [==============================] - 0s 5ms/step - loss: 0.1566 - accuracy: 0.9440\n",
            "Epoch 32/200\n",
            "16/16 [==============================] - 0s 6ms/step - loss: 0.1531 - accuracy: 0.9421\n",
            "Epoch 33/200\n",
            "16/16 [==============================] - 0s 6ms/step - loss: 0.1580 - accuracy: 0.9401\n",
            "Epoch 34/200\n",
            "16/16 [==============================] - 0s 6ms/step - loss: 0.1550 - accuracy: 0.9427\n",
            "Epoch 35/200\n",
            "16/16 [==============================] - 0s 5ms/step - loss: 0.1575 - accuracy: 0.9434\n",
            "Epoch 36/200\n",
            "16/16 [==============================] - 0s 6ms/step - loss: 0.1538 - accuracy: 0.9375\n",
            "Epoch 37/200\n",
            "16/16 [==============================] - 0s 6ms/step - loss: 0.1494 - accuracy: 0.9440\n",
            "Epoch 38/200\n",
            "16/16 [==============================] - 0s 6ms/step - loss: 0.1555 - accuracy: 0.9388\n",
            "Epoch 39/200\n",
            "16/16 [==============================] - 0s 6ms/step - loss: 0.1540 - accuracy: 0.9447\n",
            "Epoch 40/200\n",
            "16/16 [==============================] - 0s 6ms/step - loss: 0.1533 - accuracy: 0.9440\n",
            "Epoch 41/200\n",
            "16/16 [==============================] - 0s 6ms/step - loss: 0.1547 - accuracy: 0.9414\n",
            "Epoch 42/200\n",
            "16/16 [==============================] - 0s 6ms/step - loss: 0.1521 - accuracy: 0.9460\n",
            "Epoch 43/200\n",
            "16/16 [==============================] - 0s 6ms/step - loss: 0.1553 - accuracy: 0.9414\n",
            "Epoch 44/200\n",
            "16/16 [==============================] - 0s 7ms/step - loss: 0.1503 - accuracy: 0.9440\n",
            "Epoch 45/200\n",
            "16/16 [==============================] - 0s 6ms/step - loss: 0.1498 - accuracy: 0.9434\n",
            "Epoch 46/200\n",
            "16/16 [==============================] - 0s 6ms/step - loss: 0.1520 - accuracy: 0.9427\n",
            "Epoch 47/200\n",
            "16/16 [==============================] - 0s 6ms/step - loss: 0.1529 - accuracy: 0.9440\n",
            "Epoch 48/200\n",
            "16/16 [==============================] - 0s 6ms/step - loss: 0.1497 - accuracy: 0.9427\n",
            "Epoch 49/200\n",
            "16/16 [==============================] - 0s 6ms/step - loss: 0.1494 - accuracy: 0.9440\n",
            "Epoch 50/200\n",
            "16/16 [==============================] - 0s 6ms/step - loss: 0.1540 - accuracy: 0.9447\n",
            "Epoch 51/200\n",
            "16/16 [==============================] - 0s 6ms/step - loss: 0.1475 - accuracy: 0.9466\n",
            "Epoch 52/200\n",
            "16/16 [==============================] - 0s 6ms/step - loss: 0.1482 - accuracy: 0.9440\n",
            "Epoch 53/200\n",
            "16/16 [==============================] - 0s 6ms/step - loss: 0.1526 - accuracy: 0.9447\n",
            "Epoch 54/200\n",
            "16/16 [==============================] - 0s 6ms/step - loss: 0.1518 - accuracy: 0.9414\n",
            "Epoch 55/200\n",
            "16/16 [==============================] - 0s 7ms/step - loss: 0.1486 - accuracy: 0.9447\n",
            "Epoch 56/200\n",
            "16/16 [==============================] - 0s 6ms/step - loss: 0.1502 - accuracy: 0.9460\n",
            "Epoch 57/200\n",
            "16/16 [==============================] - 0s 5ms/step - loss: 0.1524 - accuracy: 0.9447\n",
            "Epoch 58/200\n",
            "16/16 [==============================] - 0s 5ms/step - loss: 0.1493 - accuracy: 0.9447\n",
            "Epoch 59/200\n",
            "16/16 [==============================] - 0s 6ms/step - loss: 0.1512 - accuracy: 0.9453\n",
            "Epoch 60/200\n",
            "16/16 [==============================] - 0s 5ms/step - loss: 0.1487 - accuracy: 0.9460\n",
            "Epoch 61/200\n",
            "16/16 [==============================] - 0s 5ms/step - loss: 0.1494 - accuracy: 0.9447\n",
            "Epoch 62/200\n",
            "16/16 [==============================] - 0s 5ms/step - loss: 0.1515 - accuracy: 0.9427\n",
            "Epoch 63/200\n",
            "16/16 [==============================] - 0s 5ms/step - loss: 0.1484 - accuracy: 0.9427\n",
            "Epoch 64/200\n",
            "16/16 [==============================] - 0s 6ms/step - loss: 0.1500 - accuracy: 0.9427\n",
            "Epoch 65/200\n",
            "16/16 [==============================] - 0s 5ms/step - loss: 0.1454 - accuracy: 0.9434\n",
            "Epoch 66/200\n",
            "16/16 [==============================] - 0s 6ms/step - loss: 0.1465 - accuracy: 0.9401\n",
            "Epoch 67/200\n",
            "16/16 [==============================] - 0s 8ms/step - loss: 0.1474 - accuracy: 0.9427\n",
            "Epoch 68/200\n",
            "16/16 [==============================] - 0s 8ms/step - loss: 0.1465 - accuracy: 0.9473\n",
            "Epoch 69/200\n",
            "16/16 [==============================] - 0s 9ms/step - loss: 0.1491 - accuracy: 0.9414\n",
            "Epoch 70/200\n",
            "16/16 [==============================] - 0s 9ms/step - loss: 0.1498 - accuracy: 0.9421\n",
            "Epoch 71/200\n",
            "16/16 [==============================] - 0s 9ms/step - loss: 0.1475 - accuracy: 0.9486\n",
            "Epoch 72/200\n",
            "16/16 [==============================] - 0s 9ms/step - loss: 0.1484 - accuracy: 0.9440\n",
            "Epoch 73/200\n",
            "16/16 [==============================] - 0s 8ms/step - loss: 0.1474 - accuracy: 0.9414\n",
            "Epoch 74/200\n",
            "16/16 [==============================] - 0s 8ms/step - loss: 0.1449 - accuracy: 0.9460\n",
            "Epoch 75/200\n",
            "16/16 [==============================] - 0s 8ms/step - loss: 0.1457 - accuracy: 0.9434\n",
            "Epoch 76/200\n",
            "16/16 [==============================] - 0s 8ms/step - loss: 0.1464 - accuracy: 0.9434\n",
            "Epoch 77/200\n",
            "16/16 [==============================] - 0s 8ms/step - loss: 0.1452 - accuracy: 0.9434\n",
            "Epoch 78/200\n",
            "16/16 [==============================] - 0s 8ms/step - loss: 0.1478 - accuracy: 0.9466\n",
            "Epoch 79/200\n",
            "16/16 [==============================] - 0s 8ms/step - loss: 0.1454 - accuracy: 0.9414\n",
            "Epoch 80/200\n",
            "16/16 [==============================] - 0s 9ms/step - loss: 0.1465 - accuracy: 0.9473\n",
            "Epoch 81/200\n",
            "16/16 [==============================] - 0s 8ms/step - loss: 0.1446 - accuracy: 0.9466\n",
            "Epoch 82/200\n",
            "16/16 [==============================] - 0s 8ms/step - loss: 0.1467 - accuracy: 0.9466\n",
            "Epoch 83/200\n",
            "16/16 [==============================] - 0s 8ms/step - loss: 0.1448 - accuracy: 0.9395\n",
            "Epoch 84/200\n",
            "16/16 [==============================] - 0s 9ms/step - loss: 0.1451 - accuracy: 0.9473\n",
            "Epoch 85/200\n",
            "16/16 [==============================] - 0s 8ms/step - loss: 0.1461 - accuracy: 0.9434\n",
            "Epoch 86/200\n",
            "16/16 [==============================] - 0s 9ms/step - loss: 0.1491 - accuracy: 0.9434\n",
            "Epoch 87/200\n",
            "16/16 [==============================] - 0s 10ms/step - loss: 0.1505 - accuracy: 0.9447\n",
            "Epoch 88/200\n",
            "16/16 [==============================] - 0s 9ms/step - loss: 0.1476 - accuracy: 0.9460\n",
            "Epoch 89/200\n",
            "16/16 [==============================] - 0s 8ms/step - loss: 0.1473 - accuracy: 0.9421\n",
            "Epoch 90/200\n",
            "16/16 [==============================] - 0s 9ms/step - loss: 0.1444 - accuracy: 0.9434\n",
            "Epoch 91/200\n",
            "16/16 [==============================] - 0s 9ms/step - loss: 0.1438 - accuracy: 0.9453\n",
            "Epoch 92/200\n",
            "16/16 [==============================] - 0s 9ms/step - loss: 0.1469 - accuracy: 0.9427\n",
            "Epoch 93/200\n",
            "16/16 [==============================] - 0s 9ms/step - loss: 0.1483 - accuracy: 0.9440\n",
            "Epoch 94/200\n",
            "16/16 [==============================] - 0s 10ms/step - loss: 0.1470 - accuracy: 0.9414\n",
            "Epoch 95/200\n",
            "16/16 [==============================] - 0s 5ms/step - loss: 0.1451 - accuracy: 0.9421\n",
            "Epoch 96/200\n",
            "16/16 [==============================] - 0s 5ms/step - loss: 0.1411 - accuracy: 0.9460\n",
            "Epoch 97/200\n",
            "16/16 [==============================] - 0s 6ms/step - loss: 0.1449 - accuracy: 0.9427\n",
            "Epoch 98/200\n",
            "16/16 [==============================] - 0s 5ms/step - loss: 0.1477 - accuracy: 0.9401\n",
            "Epoch 99/200\n",
            "16/16 [==============================] - 0s 6ms/step - loss: 0.1484 - accuracy: 0.9434\n",
            "Epoch 100/200\n",
            "16/16 [==============================] - 0s 6ms/step - loss: 0.1477 - accuracy: 0.9414\n",
            "Epoch 101/200\n",
            "16/16 [==============================] - 0s 6ms/step - loss: 0.1487 - accuracy: 0.9466\n",
            "Epoch 102/200\n",
            "16/16 [==============================] - 0s 6ms/step - loss: 0.1459 - accuracy: 0.9434\n",
            "Epoch 103/200\n",
            "16/16 [==============================] - 0s 6ms/step - loss: 0.1423 - accuracy: 0.9447\n",
            "Epoch 104/200\n",
            "16/16 [==============================] - 0s 6ms/step - loss: 0.1428 - accuracy: 0.9466\n",
            "Epoch 105/200\n",
            "16/16 [==============================] - 0s 7ms/step - loss: 0.1455 - accuracy: 0.9447\n",
            "Epoch 106/200\n",
            "16/16 [==============================] - 0s 6ms/step - loss: 0.1409 - accuracy: 0.9460\n",
            "Epoch 107/200\n",
            "16/16 [==============================] - 0s 6ms/step - loss: 0.1421 - accuracy: 0.9453\n",
            "Epoch 108/200\n",
            "16/16 [==============================] - 0s 6ms/step - loss: 0.1446 - accuracy: 0.9460\n",
            "Epoch 109/200\n",
            "16/16 [==============================] - 0s 6ms/step - loss: 0.1453 - accuracy: 0.9427\n",
            "Epoch 110/200\n",
            "16/16 [==============================] - 0s 5ms/step - loss: 0.1467 - accuracy: 0.9434\n",
            "Epoch 111/200\n",
            "16/16 [==============================] - 0s 5ms/step - loss: 0.1439 - accuracy: 0.9421\n",
            "Epoch 112/200\n",
            "16/16 [==============================] - 0s 6ms/step - loss: 0.1459 - accuracy: 0.9453\n",
            "Epoch 113/200\n",
            "16/16 [==============================] - 0s 6ms/step - loss: 0.1416 - accuracy: 0.9473\n",
            "Epoch 114/200\n",
            "16/16 [==============================] - 0s 5ms/step - loss: 0.1429 - accuracy: 0.9460\n",
            "Epoch 115/200\n",
            "16/16 [==============================] - 0s 6ms/step - loss: 0.1453 - accuracy: 0.9382\n",
            "Epoch 116/200\n",
            "16/16 [==============================] - 0s 5ms/step - loss: 0.1488 - accuracy: 0.9408\n",
            "Epoch 117/200\n",
            "16/16 [==============================] - 0s 6ms/step - loss: 0.1479 - accuracy: 0.9440\n",
            "Epoch 118/200\n",
            "16/16 [==============================] - 0s 5ms/step - loss: 0.1461 - accuracy: 0.9447\n",
            "Epoch 119/200\n",
            "16/16 [==============================] - 0s 6ms/step - loss: 0.1419 - accuracy: 0.9440\n",
            "Epoch 120/200\n",
            "16/16 [==============================] - 0s 5ms/step - loss: 0.1416 - accuracy: 0.9440\n",
            "Epoch 121/200\n",
            "16/16 [==============================] - 0s 6ms/step - loss: 0.1464 - accuracy: 0.9434\n",
            "Epoch 122/200\n",
            "16/16 [==============================] - 0s 5ms/step - loss: 0.1402 - accuracy: 0.9440\n",
            "Epoch 123/200\n",
            "16/16 [==============================] - 0s 6ms/step - loss: 0.1437 - accuracy: 0.9440\n",
            "Epoch 124/200\n",
            "16/16 [==============================] - 0s 6ms/step - loss: 0.1429 - accuracy: 0.9427\n",
            "Epoch 125/200\n",
            "16/16 [==============================] - 0s 6ms/step - loss: 0.1407 - accuracy: 0.9408\n",
            "Epoch 126/200\n",
            "16/16 [==============================] - 0s 6ms/step - loss: 0.1421 - accuracy: 0.9453\n",
            "Epoch 127/200\n",
            "16/16 [==============================] - 0s 5ms/step - loss: 0.1400 - accuracy: 0.9421\n",
            "Epoch 128/200\n",
            "16/16 [==============================] - 0s 6ms/step - loss: 0.1433 - accuracy: 0.9421\n",
            "Epoch 129/200\n",
            "16/16 [==============================] - 0s 6ms/step - loss: 0.1419 - accuracy: 0.9466\n",
            "Epoch 130/200\n",
            "16/16 [==============================] - 0s 5ms/step - loss: 0.1395 - accuracy: 0.9460\n",
            "Epoch 131/200\n",
            "16/16 [==============================] - 0s 6ms/step - loss: 0.1451 - accuracy: 0.9440\n",
            "Epoch 132/200\n",
            "16/16 [==============================] - 0s 6ms/step - loss: 0.1438 - accuracy: 0.9414\n",
            "Epoch 133/200\n",
            "16/16 [==============================] - 0s 6ms/step - loss: 0.1413 - accuracy: 0.9460\n",
            "Epoch 134/200\n",
            "16/16 [==============================] - 0s 6ms/step - loss: 0.1410 - accuracy: 0.9460\n",
            "Epoch 135/200\n",
            "16/16 [==============================] - 0s 6ms/step - loss: 0.1414 - accuracy: 0.9447\n",
            "Epoch 136/200\n",
            "16/16 [==============================] - 0s 6ms/step - loss: 0.1426 - accuracy: 0.9440\n",
            "Epoch 137/200\n",
            "16/16 [==============================] - 0s 6ms/step - loss: 0.1404 - accuracy: 0.9421\n",
            "Epoch 138/200\n",
            "16/16 [==============================] - 0s 6ms/step - loss: 0.1427 - accuracy: 0.9447\n",
            "Epoch 139/200\n",
            "16/16 [==============================] - 0s 6ms/step - loss: 0.1458 - accuracy: 0.9440\n",
            "Epoch 140/200\n",
            "16/16 [==============================] - 0s 6ms/step - loss: 0.1381 - accuracy: 0.9453\n",
            "Epoch 141/200\n",
            "16/16 [==============================] - 0s 6ms/step - loss: 0.1391 - accuracy: 0.9453\n",
            "Epoch 142/200\n",
            "16/16 [==============================] - 0s 6ms/step - loss: 0.1452 - accuracy: 0.9414\n",
            "Epoch 143/200\n",
            "16/16 [==============================] - 0s 6ms/step - loss: 0.1406 - accuracy: 0.9427\n",
            "Epoch 144/200\n",
            "16/16 [==============================] - 0s 6ms/step - loss: 0.1405 - accuracy: 0.9421\n",
            "Epoch 145/200\n",
            "16/16 [==============================] - 0s 6ms/step - loss: 0.1415 - accuracy: 0.9466\n",
            "Epoch 146/200\n",
            "16/16 [==============================] - 0s 5ms/step - loss: 0.1426 - accuracy: 0.9447\n",
            "Epoch 147/200\n",
            "16/16 [==============================] - 0s 6ms/step - loss: 0.1381 - accuracy: 0.9453\n",
            "Epoch 148/200\n",
            "16/16 [==============================] - 0s 6ms/step - loss: 0.1410 - accuracy: 0.9453\n",
            "Epoch 149/200\n",
            "16/16 [==============================] - 0s 6ms/step - loss: 0.1372 - accuracy: 0.9473\n",
            "Epoch 150/200\n",
            "16/16 [==============================] - 0s 6ms/step - loss: 0.1399 - accuracy: 0.9434\n",
            "Epoch 151/200\n",
            "16/16 [==============================] - 0s 6ms/step - loss: 0.1413 - accuracy: 0.9434\n",
            "Epoch 152/200\n",
            "16/16 [==============================] - 0s 6ms/step - loss: 0.1383 - accuracy: 0.9447\n",
            "Epoch 153/200\n",
            "16/16 [==============================] - 0s 6ms/step - loss: 0.1433 - accuracy: 0.9447\n",
            "Epoch 154/200\n",
            "16/16 [==============================] - 0s 6ms/step - loss: 0.1390 - accuracy: 0.9440\n",
            "Epoch 155/200\n",
            "16/16 [==============================] - 0s 6ms/step - loss: 0.1415 - accuracy: 0.9427\n",
            "Epoch 156/200\n",
            "16/16 [==============================] - 0s 6ms/step - loss: 0.1389 - accuracy: 0.9440\n",
            "Epoch 157/200\n",
            "16/16 [==============================] - 0s 5ms/step - loss: 0.1385 - accuracy: 0.9408\n",
            "Epoch 158/200\n",
            "16/16 [==============================] - 0s 6ms/step - loss: 0.1400 - accuracy: 0.9460\n",
            "Epoch 159/200\n",
            "16/16 [==============================] - 0s 6ms/step - loss: 0.1413 - accuracy: 0.9427\n",
            "Epoch 160/200\n",
            "16/16 [==============================] - 0s 6ms/step - loss: 0.1418 - accuracy: 0.9427\n",
            "Epoch 161/200\n",
            "16/16 [==============================] - 0s 5ms/step - loss: 0.1401 - accuracy: 0.9440\n",
            "Epoch 162/200\n",
            "16/16 [==============================] - 0s 6ms/step - loss: 0.1397 - accuracy: 0.9434\n",
            "Epoch 163/200\n",
            "16/16 [==============================] - 0s 6ms/step - loss: 0.1394 - accuracy: 0.9447\n",
            "Epoch 164/200\n",
            "16/16 [==============================] - 0s 6ms/step - loss: 0.1411 - accuracy: 0.9453\n",
            "Epoch 165/200\n",
            "16/16 [==============================] - 0s 6ms/step - loss: 0.1368 - accuracy: 0.9427\n",
            "Epoch 166/200\n",
            "16/16 [==============================] - 0s 7ms/step - loss: 0.1354 - accuracy: 0.9440\n",
            "Epoch 167/200\n",
            "16/16 [==============================] - 0s 6ms/step - loss: 0.1434 - accuracy: 0.9434\n",
            "Epoch 168/200\n",
            "16/16 [==============================] - 0s 6ms/step - loss: 0.1363 - accuracy: 0.9460\n",
            "Epoch 169/200\n",
            "16/16 [==============================] - 0s 6ms/step - loss: 0.1371 - accuracy: 0.9421\n",
            "Epoch 170/200\n",
            "16/16 [==============================] - 0s 6ms/step - loss: 0.1381 - accuracy: 0.9473\n",
            "Epoch 171/200\n",
            "16/16 [==============================] - 0s 6ms/step - loss: 0.1429 - accuracy: 0.9447\n",
            "Epoch 172/200\n",
            "16/16 [==============================] - 0s 6ms/step - loss: 0.1397 - accuracy: 0.9414\n",
            "Epoch 173/200\n",
            "16/16 [==============================] - 0s 6ms/step - loss: 0.1360 - accuracy: 0.9440\n",
            "Epoch 174/200\n",
            "16/16 [==============================] - 0s 7ms/step - loss: 0.1365 - accuracy: 0.9453\n",
            "Epoch 175/200\n",
            "16/16 [==============================] - 0s 6ms/step - loss: 0.1390 - accuracy: 0.9414\n",
            "Epoch 176/200\n",
            "16/16 [==============================] - 0s 6ms/step - loss: 0.1401 - accuracy: 0.9434\n",
            "Epoch 177/200\n",
            "16/16 [==============================] - 0s 6ms/step - loss: 0.1344 - accuracy: 0.9434\n",
            "Epoch 178/200\n",
            "16/16 [==============================] - 0s 6ms/step - loss: 0.1386 - accuracy: 0.9499\n",
            "Epoch 179/200\n",
            "16/16 [==============================] - 0s 6ms/step - loss: 0.1391 - accuracy: 0.9466\n",
            "Epoch 180/200\n",
            "16/16 [==============================] - 0s 6ms/step - loss: 0.1311 - accuracy: 0.9473\n",
            "Epoch 181/200\n",
            "16/16 [==============================] - 0s 6ms/step - loss: 0.1414 - accuracy: 0.9421\n",
            "Epoch 182/200\n",
            "16/16 [==============================] - 0s 6ms/step - loss: 0.1309 - accuracy: 0.9414\n",
            "Epoch 183/200\n",
            "16/16 [==============================] - 0s 6ms/step - loss: 0.1376 - accuracy: 0.9421\n",
            "Epoch 184/200\n",
            "16/16 [==============================] - 0s 6ms/step - loss: 0.1338 - accuracy: 0.9434\n",
            "Epoch 185/200\n",
            "16/16 [==============================] - 0s 7ms/step - loss: 0.1384 - accuracy: 0.9434\n",
            "Epoch 186/200\n",
            "16/16 [==============================] - 0s 6ms/step - loss: 0.1334 - accuracy: 0.9460\n",
            "Epoch 187/200\n",
            "16/16 [==============================] - 0s 6ms/step - loss: 0.1359 - accuracy: 0.9466\n",
            "Epoch 188/200\n",
            "16/16 [==============================] - 0s 6ms/step - loss: 0.1331 - accuracy: 0.9414\n",
            "Epoch 189/200\n",
            "16/16 [==============================] - 0s 6ms/step - loss: 0.1364 - accuracy: 0.9427\n",
            "Epoch 190/200\n",
            "16/16 [==============================] - 0s 6ms/step - loss: 0.1316 - accuracy: 0.9453\n",
            "Epoch 191/200\n",
            "16/16 [==============================] - 0s 5ms/step - loss: 0.1317 - accuracy: 0.9447\n",
            "Epoch 192/200\n",
            "16/16 [==============================] - 0s 8ms/step - loss: 0.1355 - accuracy: 0.9447\n",
            "Epoch 193/200\n",
            "16/16 [==============================] - 0s 9ms/step - loss: 0.1452 - accuracy: 0.9427\n",
            "Epoch 194/200\n",
            "16/16 [==============================] - 0s 10ms/step - loss: 0.1337 - accuracy: 0.9453\n",
            "Epoch 195/200\n",
            "16/16 [==============================] - 0s 9ms/step - loss: 0.1327 - accuracy: 0.9427\n",
            "Epoch 196/200\n",
            "16/16 [==============================] - 0s 9ms/step - loss: 0.1351 - accuracy: 0.9473\n",
            "Epoch 197/200\n",
            "16/16 [==============================] - 0s 9ms/step - loss: 0.1366 - accuracy: 0.9473\n",
            "Epoch 198/200\n",
            "16/16 [==============================] - 0s 9ms/step - loss: 0.1390 - accuracy: 0.9460\n",
            "Epoch 199/200\n",
            "16/16 [==============================] - 0s 8ms/step - loss: 0.1391 - accuracy: 0.9453\n",
            "Epoch 200/200\n",
            "16/16 [==============================] - 0s 9ms/step - loss: 0.1341 - accuracy: 0.9466\n",
            "12/12 [==============================] - 0s 2ms/step - loss: 0.1591 - accuracy: 0.9479\n",
            "Accuracy: 0.9479166865348816\n"
          ]
        }
      ]
    },
    {
      "cell_type": "markdown",
      "source": [
        "#generate labels for the test stage data set"
      ],
      "metadata": {
        "id": "EyBY-4kyzbXH"
      }
    },
    {
      "cell_type": "code",
      "source": [
        "import pandas as pd\n",
        "df_test_stage1= pd.read_csv('/content/test_stage1.csv')\n",
        "df_test_stage1.head()\n",
        "\n",
        "df_test_stage1[\"comment\"] = df_test_stage1[\"comment\"].apply(clean_text1)\n",
        "df_test_stage1[\"comment\"].head()\n",
        "df_test_stage1[\"embeddings\"] = df_train[\"comment\"].apply(lambda x: model.get_sentence_vector(x))\n",
        "labels=model_SVC.predict(list(df_test_stage1[\"embeddings\"]))\n",
        "\n",
        "df_test_stage1['label'] = labels\n",
        "\n",
        "df_test_stage1[['ID', 'label']].to_csv('/content/test_prediction.csv', index=False)\n",
        "\n",
        "df_test_stage1[['ID', 'comment','label']].to_csv('/content/test_prediction_allcolumns.csv', index=False)"
      ],
      "metadata": {
        "id": "ioUjUatjvV7l"
      },
      "execution_count": 25,
      "outputs": []
    }
  ]
}